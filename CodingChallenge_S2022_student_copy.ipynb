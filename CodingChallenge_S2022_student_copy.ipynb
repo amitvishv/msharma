{
 "cells": [
  {
   "cell_type": "markdown",
   "metadata": {
    "application/vnd.databricks.v1+cell": {
     "inputWidgets": {},
     "nuid": "189601c3-be27-4da5-8cc7-f0b6f87b6102",
     "showTitle": false,
     "title": ""
    }
   },
   "source": [
    "# IMST E-111 Coding Challenge Fall 2021\n",
    "#### Make sure to include any relevant code when providing all answers. \n",
    "Save this as a `.ipynb` file with all results visible and send it to Vasya when you're done.<br>\n",
    "Enter your code into *this* notebook **AND** Enter your name in the following cell (`5 pts`)\n",
    "\n",
    "#### Always show your work, and if there is a question being asked be sure to answer it.\n",
    "You can answer with a comment, print statement or markdown cell <br>(remember a comment is preceded by a hash symbol `#here is my comment`)\n",
    "\n",
    "\n",
    "### Challenge is out of 150 points \n",
    "  * **100 points for the main challenge**\n",
    "  * **50 bonus points for extra credit**\n",
    " \n",
    "#### Notes\n",
    "* Dont worry about missing values, they're addressed in the Extra Credit portion\n",
    "\n",
    "#### Submission\n",
    "* send this completed .ipynb (with all cells run) to vasyatheta@gmail.com with your first and last name in the filename (e.g., `Vasya_Selsov_CodingChallenge_S2022.ipynb`)\n",
    "* If you cant find the location of this notebook you can run the following to find your notebook:<br> \n",
    "`import os`<br>\n",
    "`print(os.getcwd())`<br>\n",
    "Drag and drop that .ipynb file into your email"
   ]
  },
  {
   "cell_type": "code",
   "execution_count": 1,
   "metadata": {},
   "outputs": [],
   "source": [
    "import pandas as pd\n",
    "import seaborn as sns"
   ]
  },
  {
   "cell_type": "markdown",
   "metadata": {
    "application/vnd.databricks.v1+cell": {
     "inputWidgets": {},
     "nuid": "d9e01958-0f72-4095-a493-f0884466db78",
     "showTitle": false,
     "title": ""
    }
   },
   "source": [
    "### 1. Load your Data and Take a Look\n",
    "\n",
    "&nbsp;&nbsp;&nbsp;&nbsp;&nbsp;&nbsp;**a.** **(`10 pts`)** Load the training data (found in the same github repo as this notebook) into this notebook using Pandas. \n",
    "\n",
    "&nbsp;&nbsp;&nbsp;&nbsp;&nbsp;&nbsp;**b.** **(`5 pts`)** Show the first 10 lines of the data."
   ]
  },
  {
   "cell_type": "code",
   "execution_count": 2,
   "metadata": {},
   "outputs": [],
   "source": [
    "df = pd.read_csv('codingdata.csv')  "
   ]
  },
  {
   "cell_type": "code",
   "execution_count": 3,
   "metadata": {},
   "outputs": [
    {
     "data": {
      "text/html": [
       "<div>\n",
       "<style scoped>\n",
       "    .dataframe tbody tr th:only-of-type {\n",
       "        vertical-align: middle;\n",
       "    }\n",
       "\n",
       "    .dataframe tbody tr th {\n",
       "        vertical-align: top;\n",
       "    }\n",
       "\n",
       "    .dataframe thead th {\n",
       "        text-align: right;\n",
       "    }\n",
       "</style>\n",
       "<table border=\"1\" class=\"dataframe\">\n",
       "  <thead>\n",
       "    <tr style=\"text-align: right;\">\n",
       "      <th></th>\n",
       "      <th>Email_ID</th>\n",
       "      <th>Email_Type</th>\n",
       "      <th>Subject_Hotness_Score</th>\n",
       "      <th>Email_Source_Type</th>\n",
       "      <th>Customer_Location</th>\n",
       "      <th>Email_Campaign_Type</th>\n",
       "      <th>Total_Past_Communications</th>\n",
       "      <th>Time_Email_sent_Category</th>\n",
       "      <th>Word_Count</th>\n",
       "      <th>Total_Links</th>\n",
       "      <th>Total_Images</th>\n",
       "      <th>Email_Status</th>\n",
       "    </tr>\n",
       "  </thead>\n",
       "  <tbody>\n",
       "    <tr>\n",
       "      <th>0</th>\n",
       "      <td>EMA00081000034500</td>\n",
       "      <td>1</td>\n",
       "      <td>2.2</td>\n",
       "      <td>2</td>\n",
       "      <td>E</td>\n",
       "      <td>2</td>\n",
       "      <td>33.0</td>\n",
       "      <td>1</td>\n",
       "      <td>440</td>\n",
       "      <td>8.0</td>\n",
       "      <td>0.0</td>\n",
       "      <td>0</td>\n",
       "    </tr>\n",
       "    <tr>\n",
       "      <th>1</th>\n",
       "      <td>EMA00081000045360</td>\n",
       "      <td>2</td>\n",
       "      <td>2.1</td>\n",
       "      <td>1</td>\n",
       "      <td>NaN</td>\n",
       "      <td>2</td>\n",
       "      <td>15.0</td>\n",
       "      <td>2</td>\n",
       "      <td>504</td>\n",
       "      <td>5.0</td>\n",
       "      <td>0.0</td>\n",
       "      <td>0</td>\n",
       "    </tr>\n",
       "    <tr>\n",
       "      <th>2</th>\n",
       "      <td>EMA00081000066290</td>\n",
       "      <td>2</td>\n",
       "      <td>0.1</td>\n",
       "      <td>1</td>\n",
       "      <td>B</td>\n",
       "      <td>3</td>\n",
       "      <td>36.0</td>\n",
       "      <td>2</td>\n",
       "      <td>962</td>\n",
       "      <td>5.0</td>\n",
       "      <td>0.0</td>\n",
       "      <td>1</td>\n",
       "    </tr>\n",
       "    <tr>\n",
       "      <th>3</th>\n",
       "      <td>EMA00081000076560</td>\n",
       "      <td>1</td>\n",
       "      <td>3.0</td>\n",
       "      <td>2</td>\n",
       "      <td>E</td>\n",
       "      <td>2</td>\n",
       "      <td>25.0</td>\n",
       "      <td>2</td>\n",
       "      <td>610</td>\n",
       "      <td>16.0</td>\n",
       "      <td>0.0</td>\n",
       "      <td>0</td>\n",
       "    </tr>\n",
       "    <tr>\n",
       "      <th>4</th>\n",
       "      <td>EMA00081000109720</td>\n",
       "      <td>1</td>\n",
       "      <td>0.0</td>\n",
       "      <td>2</td>\n",
       "      <td>C</td>\n",
       "      <td>3</td>\n",
       "      <td>18.0</td>\n",
       "      <td>2</td>\n",
       "      <td>947</td>\n",
       "      <td>4.0</td>\n",
       "      <td>0.0</td>\n",
       "      <td>0</td>\n",
       "    </tr>\n",
       "    <tr>\n",
       "      <th>...</th>\n",
       "      <td>...</td>\n",
       "      <td>...</td>\n",
       "      <td>...</td>\n",
       "      <td>...</td>\n",
       "      <td>...</td>\n",
       "      <td>...</td>\n",
       "      <td>...</td>\n",
       "      <td>...</td>\n",
       "      <td>...</td>\n",
       "      <td>...</td>\n",
       "      <td>...</td>\n",
       "      <td>...</td>\n",
       "    </tr>\n",
       "    <tr>\n",
       "      <th>68348</th>\n",
       "      <td>EMA00089995974500</td>\n",
       "      <td>2</td>\n",
       "      <td>0.4</td>\n",
       "      <td>1</td>\n",
       "      <td>F</td>\n",
       "      <td>2</td>\n",
       "      <td>22.0</td>\n",
       "      <td>3</td>\n",
       "      <td>737</td>\n",
       "      <td>16.0</td>\n",
       "      <td>13.0</td>\n",
       "      <td>0</td>\n",
       "    </tr>\n",
       "    <tr>\n",
       "      <th>68349</th>\n",
       "      <td>EMA00089998225300</td>\n",
       "      <td>1</td>\n",
       "      <td>1.3</td>\n",
       "      <td>1</td>\n",
       "      <td>C</td>\n",
       "      <td>2</td>\n",
       "      <td>40.0</td>\n",
       "      <td>2</td>\n",
       "      <td>653</td>\n",
       "      <td>31.0</td>\n",
       "      <td>16.0</td>\n",
       "      <td>0</td>\n",
       "    </tr>\n",
       "    <tr>\n",
       "      <th>68350</th>\n",
       "      <td>EMA00089998436500</td>\n",
       "      <td>1</td>\n",
       "      <td>2.2</td>\n",
       "      <td>2</td>\n",
       "      <td>NaN</td>\n",
       "      <td>2</td>\n",
       "      <td>33.0</td>\n",
       "      <td>2</td>\n",
       "      <td>490</td>\n",
       "      <td>9.0</td>\n",
       "      <td>0.0</td>\n",
       "      <td>0</td>\n",
       "    </tr>\n",
       "    <tr>\n",
       "      <th>68351</th>\n",
       "      <td>EMA00089999168800</td>\n",
       "      <td>1</td>\n",
       "      <td>0.4</td>\n",
       "      <td>1</td>\n",
       "      <td>E</td>\n",
       "      <td>2</td>\n",
       "      <td>50.0</td>\n",
       "      <td>1</td>\n",
       "      <td>733</td>\n",
       "      <td>14.0</td>\n",
       "      <td>4.0</td>\n",
       "      <td>0</td>\n",
       "    </tr>\n",
       "    <tr>\n",
       "      <th>68352</th>\n",
       "      <td>EMA00089999316900</td>\n",
       "      <td>1</td>\n",
       "      <td>1.5</td>\n",
       "      <td>1</td>\n",
       "      <td>G</td>\n",
       "      <td>2</td>\n",
       "      <td>20.0</td>\n",
       "      <td>2</td>\n",
       "      <td>1038</td>\n",
       "      <td>6.0</td>\n",
       "      <td>0.0</td>\n",
       "      <td>0</td>\n",
       "    </tr>\n",
       "  </tbody>\n",
       "</table>\n",
       "<p>68353 rows × 12 columns</p>\n",
       "</div>"
      ],
      "text/plain": [
       "                Email_ID  Email_Type  Subject_Hotness_Score  \\\n",
       "0      EMA00081000034500           1                    2.2   \n",
       "1      EMA00081000045360           2                    2.1   \n",
       "2      EMA00081000066290           2                    0.1   \n",
       "3      EMA00081000076560           1                    3.0   \n",
       "4      EMA00081000109720           1                    0.0   \n",
       "...                  ...         ...                    ...   \n",
       "68348  EMA00089995974500           2                    0.4   \n",
       "68349  EMA00089998225300           1                    1.3   \n",
       "68350  EMA00089998436500           1                    2.2   \n",
       "68351  EMA00089999168800           1                    0.4   \n",
       "68352  EMA00089999316900           1                    1.5   \n",
       "\n",
       "       Email_Source_Type Customer_Location  Email_Campaign_Type  \\\n",
       "0                      2                 E                    2   \n",
       "1                      1               NaN                    2   \n",
       "2                      1                 B                    3   \n",
       "3                      2                 E                    2   \n",
       "4                      2                 C                    3   \n",
       "...                  ...               ...                  ...   \n",
       "68348                  1                 F                    2   \n",
       "68349                  1                 C                    2   \n",
       "68350                  2               NaN                    2   \n",
       "68351                  1                 E                    2   \n",
       "68352                  1                 G                    2   \n",
       "\n",
       "       Total_Past_Communications  Time_Email_sent_Category  Word_Count  \\\n",
       "0                           33.0                         1         440   \n",
       "1                           15.0                         2         504   \n",
       "2                           36.0                         2         962   \n",
       "3                           25.0                         2         610   \n",
       "4                           18.0                         2         947   \n",
       "...                          ...                       ...         ...   \n",
       "68348                       22.0                         3         737   \n",
       "68349                       40.0                         2         653   \n",
       "68350                       33.0                         2         490   \n",
       "68351                       50.0                         1         733   \n",
       "68352                       20.0                         2        1038   \n",
       "\n",
       "       Total_Links  Total_Images  Email_Status  \n",
       "0              8.0           0.0             0  \n",
       "1              5.0           0.0             0  \n",
       "2              5.0           0.0             1  \n",
       "3             16.0           0.0             0  \n",
       "4              4.0           0.0             0  \n",
       "...            ...           ...           ...  \n",
       "68348         16.0          13.0             0  \n",
       "68349         31.0          16.0             0  \n",
       "68350          9.0           0.0             0  \n",
       "68351         14.0           4.0             0  \n",
       "68352          6.0           0.0             0  \n",
       "\n",
       "[68353 rows x 12 columns]"
      ]
     },
     "execution_count": 3,
     "metadata": {},
     "output_type": "execute_result"
    }
   ],
   "source": [
    "df # 1. (a)"
   ]
  },
  {
   "cell_type": "code",
   "execution_count": 4,
   "metadata": {},
   "outputs": [
    {
     "data": {
      "text/html": [
       "<div>\n",
       "<style scoped>\n",
       "    .dataframe tbody tr th:only-of-type {\n",
       "        vertical-align: middle;\n",
       "    }\n",
       "\n",
       "    .dataframe tbody tr th {\n",
       "        vertical-align: top;\n",
       "    }\n",
       "\n",
       "    .dataframe thead th {\n",
       "        text-align: right;\n",
       "    }\n",
       "</style>\n",
       "<table border=\"1\" class=\"dataframe\">\n",
       "  <thead>\n",
       "    <tr style=\"text-align: right;\">\n",
       "      <th></th>\n",
       "      <th>Email_ID</th>\n",
       "      <th>Email_Type</th>\n",
       "      <th>Subject_Hotness_Score</th>\n",
       "      <th>Email_Source_Type</th>\n",
       "      <th>Customer_Location</th>\n",
       "      <th>Email_Campaign_Type</th>\n",
       "      <th>Total_Past_Communications</th>\n",
       "      <th>Time_Email_sent_Category</th>\n",
       "      <th>Word_Count</th>\n",
       "      <th>Total_Links</th>\n",
       "      <th>Total_Images</th>\n",
       "      <th>Email_Status</th>\n",
       "    </tr>\n",
       "  </thead>\n",
       "  <tbody>\n",
       "    <tr>\n",
       "      <th>0</th>\n",
       "      <td>EMA00081000034500</td>\n",
       "      <td>1</td>\n",
       "      <td>2.2</td>\n",
       "      <td>2</td>\n",
       "      <td>E</td>\n",
       "      <td>2</td>\n",
       "      <td>33.0</td>\n",
       "      <td>1</td>\n",
       "      <td>440</td>\n",
       "      <td>8.0</td>\n",
       "      <td>0.0</td>\n",
       "      <td>0</td>\n",
       "    </tr>\n",
       "    <tr>\n",
       "      <th>1</th>\n",
       "      <td>EMA00081000045360</td>\n",
       "      <td>2</td>\n",
       "      <td>2.1</td>\n",
       "      <td>1</td>\n",
       "      <td>NaN</td>\n",
       "      <td>2</td>\n",
       "      <td>15.0</td>\n",
       "      <td>2</td>\n",
       "      <td>504</td>\n",
       "      <td>5.0</td>\n",
       "      <td>0.0</td>\n",
       "      <td>0</td>\n",
       "    </tr>\n",
       "    <tr>\n",
       "      <th>2</th>\n",
       "      <td>EMA00081000066290</td>\n",
       "      <td>2</td>\n",
       "      <td>0.1</td>\n",
       "      <td>1</td>\n",
       "      <td>B</td>\n",
       "      <td>3</td>\n",
       "      <td>36.0</td>\n",
       "      <td>2</td>\n",
       "      <td>962</td>\n",
       "      <td>5.0</td>\n",
       "      <td>0.0</td>\n",
       "      <td>1</td>\n",
       "    </tr>\n",
       "    <tr>\n",
       "      <th>3</th>\n",
       "      <td>EMA00081000076560</td>\n",
       "      <td>1</td>\n",
       "      <td>3.0</td>\n",
       "      <td>2</td>\n",
       "      <td>E</td>\n",
       "      <td>2</td>\n",
       "      <td>25.0</td>\n",
       "      <td>2</td>\n",
       "      <td>610</td>\n",
       "      <td>16.0</td>\n",
       "      <td>0.0</td>\n",
       "      <td>0</td>\n",
       "    </tr>\n",
       "    <tr>\n",
       "      <th>4</th>\n",
       "      <td>EMA00081000109720</td>\n",
       "      <td>1</td>\n",
       "      <td>0.0</td>\n",
       "      <td>2</td>\n",
       "      <td>C</td>\n",
       "      <td>3</td>\n",
       "      <td>18.0</td>\n",
       "      <td>2</td>\n",
       "      <td>947</td>\n",
       "      <td>4.0</td>\n",
       "      <td>0.0</td>\n",
       "      <td>0</td>\n",
       "    </tr>\n",
       "    <tr>\n",
       "      <th>5</th>\n",
       "      <td>EMA00081000131660</td>\n",
       "      <td>1</td>\n",
       "      <td>1.5</td>\n",
       "      <td>1</td>\n",
       "      <td>G</td>\n",
       "      <td>2</td>\n",
       "      <td>NaN</td>\n",
       "      <td>2</td>\n",
       "      <td>416</td>\n",
       "      <td>11.0</td>\n",
       "      <td>0.0</td>\n",
       "      <td>0</td>\n",
       "    </tr>\n",
       "    <tr>\n",
       "      <th>6</th>\n",
       "      <td>EMA00081000160500</td>\n",
       "      <td>1</td>\n",
       "      <td>3.2</td>\n",
       "      <td>1</td>\n",
       "      <td>E</td>\n",
       "      <td>2</td>\n",
       "      <td>34.0</td>\n",
       "      <td>3</td>\n",
       "      <td>116</td>\n",
       "      <td>4.0</td>\n",
       "      <td>0.0</td>\n",
       "      <td>0</td>\n",
       "    </tr>\n",
       "    <tr>\n",
       "      <th>7</th>\n",
       "      <td>EMA00081000269630</td>\n",
       "      <td>1</td>\n",
       "      <td>0.7</td>\n",
       "      <td>2</td>\n",
       "      <td>G</td>\n",
       "      <td>2</td>\n",
       "      <td>21.0</td>\n",
       "      <td>2</td>\n",
       "      <td>1241</td>\n",
       "      <td>6.0</td>\n",
       "      <td>2.0</td>\n",
       "      <td>0</td>\n",
       "    </tr>\n",
       "    <tr>\n",
       "      <th>8</th>\n",
       "      <td>EMA00081000287790</td>\n",
       "      <td>1</td>\n",
       "      <td>2.0</td>\n",
       "      <td>1</td>\n",
       "      <td>G</td>\n",
       "      <td>2</td>\n",
       "      <td>NaN</td>\n",
       "      <td>3</td>\n",
       "      <td>655</td>\n",
       "      <td>11.0</td>\n",
       "      <td>4.0</td>\n",
       "      <td>0</td>\n",
       "    </tr>\n",
       "    <tr>\n",
       "      <th>9</th>\n",
       "      <td>EMA00081000367310</td>\n",
       "      <td>2</td>\n",
       "      <td>0.5</td>\n",
       "      <td>1</td>\n",
       "      <td>G</td>\n",
       "      <td>2</td>\n",
       "      <td>40.0</td>\n",
       "      <td>3</td>\n",
       "      <td>655</td>\n",
       "      <td>11.0</td>\n",
       "      <td>0.0</td>\n",
       "      <td>0</td>\n",
       "    </tr>\n",
       "  </tbody>\n",
       "</table>\n",
       "</div>"
      ],
      "text/plain": [
       "            Email_ID  Email_Type  Subject_Hotness_Score  Email_Source_Type  \\\n",
       "0  EMA00081000034500           1                    2.2                  2   \n",
       "1  EMA00081000045360           2                    2.1                  1   \n",
       "2  EMA00081000066290           2                    0.1                  1   \n",
       "3  EMA00081000076560           1                    3.0                  2   \n",
       "4  EMA00081000109720           1                    0.0                  2   \n",
       "5  EMA00081000131660           1                    1.5                  1   \n",
       "6  EMA00081000160500           1                    3.2                  1   \n",
       "7  EMA00081000269630           1                    0.7                  2   \n",
       "8  EMA00081000287790           1                    2.0                  1   \n",
       "9  EMA00081000367310           2                    0.5                  1   \n",
       "\n",
       "  Customer_Location  Email_Campaign_Type  Total_Past_Communications  \\\n",
       "0                 E                    2                       33.0   \n",
       "1               NaN                    2                       15.0   \n",
       "2                 B                    3                       36.0   \n",
       "3                 E                    2                       25.0   \n",
       "4                 C                    3                       18.0   \n",
       "5                 G                    2                        NaN   \n",
       "6                 E                    2                       34.0   \n",
       "7                 G                    2                       21.0   \n",
       "8                 G                    2                        NaN   \n",
       "9                 G                    2                       40.0   \n",
       "\n",
       "   Time_Email_sent_Category  Word_Count  Total_Links  Total_Images  \\\n",
       "0                         1         440          8.0           0.0   \n",
       "1                         2         504          5.0           0.0   \n",
       "2                         2         962          5.0           0.0   \n",
       "3                         2         610         16.0           0.0   \n",
       "4                         2         947          4.0           0.0   \n",
       "5                         2         416         11.0           0.0   \n",
       "6                         3         116          4.0           0.0   \n",
       "7                         2        1241          6.0           2.0   \n",
       "8                         3         655         11.0           4.0   \n",
       "9                         3         655         11.0           0.0   \n",
       "\n",
       "   Email_Status  \n",
       "0             0  \n",
       "1             0  \n",
       "2             1  \n",
       "3             0  \n",
       "4             0  \n",
       "5             0  \n",
       "6             0  \n",
       "7             0  \n",
       "8             0  \n",
       "9             0  "
      ]
     },
     "execution_count": 4,
     "metadata": {},
     "output_type": "execute_result"
    }
   ],
   "source": [
    "df.head(10) # 1. (b)"
   ]
  },
  {
   "cell_type": "markdown",
   "metadata": {
    "application/vnd.databricks.v1+cell": {
     "inputWidgets": {},
     "nuid": "f71154a2-ac71-42a9-9f68-f74c8818dab7",
     "showTitle": false,
     "title": ""
    }
   },
   "source": [
    "### 2.  Define and describe your target variable\n",
    "The `email status` column contains three values with the following definitions.  \n",
    "`0=ignored` `1=read` and `2=converted`\n",
    "* Ignored means that the customer did not interact with the email\n",
    "* Read means that a customer opened the email\n",
    "* Converted means that the customer clicked on the link for the product page within the email. \n",
    "\n",
    "The company considers an `email_status` of `2` as a conversion, (statuses 0 and 1 are non-conversions).\n",
    "\n",
    "\n",
    "&nbsp;&nbsp;&nbsp;&nbsp;&nbsp;&nbsp;**a.** **(`10 pts`)** Create a new column called `conversion` that has a value of `1` when the email was follwed by a conversion and is `0` otherwise."
   ]
  },
  {
   "cell_type": "code",
   "execution_count": null,
   "metadata": {},
   "outputs": [],
   "source": []
  },
  {
   "cell_type": "code",
   "execution_count": 16,
   "metadata": {},
   "outputs": [],
   "source": [
    "df['conversion'] = df['Email_Status'].apply(lambda x: 1 if x == 2 else 0)  # 2. (a)"
   ]
  },
  {
   "cell_type": "code",
   "execution_count": 18,
   "metadata": {},
   "outputs": [
    {
     "data": {
      "text/html": [
       "<div>\n",
       "<style scoped>\n",
       "    .dataframe tbody tr th:only-of-type {\n",
       "        vertical-align: middle;\n",
       "    }\n",
       "\n",
       "    .dataframe tbody tr th {\n",
       "        vertical-align: top;\n",
       "    }\n",
       "\n",
       "    .dataframe thead th {\n",
       "        text-align: right;\n",
       "    }\n",
       "</style>\n",
       "<table border=\"1\" class=\"dataframe\">\n",
       "  <thead>\n",
       "    <tr style=\"text-align: right;\">\n",
       "      <th></th>\n",
       "      <th>Email_ID</th>\n",
       "      <th>Email_Type</th>\n",
       "      <th>Subject_Hotness_Score</th>\n",
       "      <th>Email_Source_Type</th>\n",
       "      <th>Customer_Location</th>\n",
       "      <th>Email_Campaign_Type</th>\n",
       "      <th>Total_Past_Communications</th>\n",
       "      <th>Time_Email_sent_Category</th>\n",
       "      <th>Word_Count</th>\n",
       "      <th>Total_Links</th>\n",
       "      <th>Total_Images</th>\n",
       "      <th>Email_Status</th>\n",
       "      <th>conversion</th>\n",
       "    </tr>\n",
       "  </thead>\n",
       "  <tbody>\n",
       "    <tr>\n",
       "      <th>0</th>\n",
       "      <td>EMA00081000034500</td>\n",
       "      <td>1</td>\n",
       "      <td>2.2</td>\n",
       "      <td>2</td>\n",
       "      <td>E</td>\n",
       "      <td>2</td>\n",
       "      <td>33.0</td>\n",
       "      <td>1</td>\n",
       "      <td>440</td>\n",
       "      <td>8.0</td>\n",
       "      <td>0.0</td>\n",
       "      <td>0</td>\n",
       "      <td>0</td>\n",
       "    </tr>\n",
       "    <tr>\n",
       "      <th>1</th>\n",
       "      <td>EMA00081000045360</td>\n",
       "      <td>2</td>\n",
       "      <td>2.1</td>\n",
       "      <td>1</td>\n",
       "      <td>NaN</td>\n",
       "      <td>2</td>\n",
       "      <td>15.0</td>\n",
       "      <td>2</td>\n",
       "      <td>504</td>\n",
       "      <td>5.0</td>\n",
       "      <td>0.0</td>\n",
       "      <td>0</td>\n",
       "      <td>0</td>\n",
       "    </tr>\n",
       "    <tr>\n",
       "      <th>2</th>\n",
       "      <td>EMA00081000066290</td>\n",
       "      <td>2</td>\n",
       "      <td>0.1</td>\n",
       "      <td>1</td>\n",
       "      <td>B</td>\n",
       "      <td>3</td>\n",
       "      <td>36.0</td>\n",
       "      <td>2</td>\n",
       "      <td>962</td>\n",
       "      <td>5.0</td>\n",
       "      <td>0.0</td>\n",
       "      <td>1</td>\n",
       "      <td>0</td>\n",
       "    </tr>\n",
       "    <tr>\n",
       "      <th>3</th>\n",
       "      <td>EMA00081000076560</td>\n",
       "      <td>1</td>\n",
       "      <td>3.0</td>\n",
       "      <td>2</td>\n",
       "      <td>E</td>\n",
       "      <td>2</td>\n",
       "      <td>25.0</td>\n",
       "      <td>2</td>\n",
       "      <td>610</td>\n",
       "      <td>16.0</td>\n",
       "      <td>0.0</td>\n",
       "      <td>0</td>\n",
       "      <td>0</td>\n",
       "    </tr>\n",
       "    <tr>\n",
       "      <th>4</th>\n",
       "      <td>EMA00081000109720</td>\n",
       "      <td>1</td>\n",
       "      <td>0.0</td>\n",
       "      <td>2</td>\n",
       "      <td>C</td>\n",
       "      <td>3</td>\n",
       "      <td>18.0</td>\n",
       "      <td>2</td>\n",
       "      <td>947</td>\n",
       "      <td>4.0</td>\n",
       "      <td>0.0</td>\n",
       "      <td>0</td>\n",
       "      <td>0</td>\n",
       "    </tr>\n",
       "  </tbody>\n",
       "</table>\n",
       "</div>"
      ],
      "text/plain": [
       "            Email_ID  Email_Type  Subject_Hotness_Score  Email_Source_Type  \\\n",
       "0  EMA00081000034500           1                    2.2                  2   \n",
       "1  EMA00081000045360           2                    2.1                  1   \n",
       "2  EMA00081000066290           2                    0.1                  1   \n",
       "3  EMA00081000076560           1                    3.0                  2   \n",
       "4  EMA00081000109720           1                    0.0                  2   \n",
       "\n",
       "  Customer_Location  Email_Campaign_Type  Total_Past_Communications  \\\n",
       "0                 E                    2                       33.0   \n",
       "1               NaN                    2                       15.0   \n",
       "2                 B                    3                       36.0   \n",
       "3                 E                    2                       25.0   \n",
       "4                 C                    3                       18.0   \n",
       "\n",
       "   Time_Email_sent_Category  Word_Count  Total_Links  Total_Images  \\\n",
       "0                         1         440          8.0           0.0   \n",
       "1                         2         504          5.0           0.0   \n",
       "2                         2         962          5.0           0.0   \n",
       "3                         2         610         16.0           0.0   \n",
       "4                         2         947          4.0           0.0   \n",
       "\n",
       "   Email_Status  conversion  \n",
       "0             0           0  \n",
       "1             0           0  \n",
       "2             1           0  \n",
       "3             0           0  \n",
       "4             0           0  "
      ]
     },
     "execution_count": 18,
     "metadata": {},
     "output_type": "execute_result"
    }
   ],
   "source": [
    "df.head()"
   ]
  },
  {
   "cell_type": "markdown",
   "metadata": {
    "application/vnd.databricks.v1+cell": {
     "inputWidgets": {},
     "nuid": "e7f9719b-1831-4ef0-8600-c02a999fa3ce",
     "showTitle": false,
     "title": ""
    }
   },
   "source": []
  },
  {
   "cell_type": "markdown",
   "metadata": {
    "application/vnd.databricks.v1+cell": {
     "inputWidgets": {},
     "nuid": "659af248-f7af-4df9-aa2a-f72ff215fce4",
     "showTitle": false,
     "title": ""
    }
   },
   "source": [
    "&nbsp;&nbsp;&nbsp;&nbsp;&nbsp;&nbsp;**b.**  **(`10 pts`)** How many conversions are in this dataset?<br>"
   ]
  },
  {
   "cell_type": "code",
   "execution_count": 21,
   "metadata": {},
   "outputs": [
    {
     "name": "stdout",
     "output_type": "stream",
     "text": [
      "total conversions: 2373 out of 68353\n"
     ]
    }
   ],
   "source": [
    "print('total conversions: %i out of %i' % (df.conversion.sum(), df.shape[0])) # 2. (b)"
   ]
  },
  {
   "cell_type": "markdown",
   "metadata": {
    "application/vnd.databricks.v1+cell": {
     "inputWidgets": {},
     "nuid": "2f25e64a-688a-4203-a880-ca8c17f3540b",
     "showTitle": false,
     "title": ""
    }
   },
   "source": [
    "&nbsp;&nbsp;&nbsp;&nbsp;&nbsp;&nbsp;**c.**  **(`10 pts`)** What percent of all emails resulted in a conversion?<br><i>Show output you used to determine this answer and provide your answer as a comment</i>"
   ]
  },
  {
   "cell_type": "code",
   "execution_count": 22,
   "metadata": {
    "application/vnd.databricks.v1+cell": {
     "inputWidgets": {},
     "nuid": "72111f8d-e337-417a-863d-77436b7d5537",
     "showTitle": false,
     "title": ""
    }
   },
   "outputs": [
    {
     "name": "stdout",
     "output_type": "stream",
     "text": [
      "conversion rate: 3.47%\n"
     ]
    }
   ],
   "source": [
    "print('conversion rate: %0.2f%%' % (df.conversion.sum() / df.shape[0] * 100.0))  #  2. (c)"
   ]
  },
  {
   "cell_type": "markdown",
   "metadata": {
    "application/vnd.databricks.v1+cell": {
     "inputWidgets": {},
     "nuid": "f207e6a1-20e3-4563-931b-43d9d9272a0a",
     "showTitle": false,
     "title": ""
    }
   },
   "source": [
    "### 3 Exploration"
   ]
  },
  {
   "cell_type": "markdown",
   "metadata": {
    "application/vnd.databricks.v1+cell": {
     "inputWidgets": {},
     "nuid": "e666c416-a222-461b-a060-249c92ca7266",
     "showTitle": false,
     "title": ""
    }
   },
   "source": [
    "&nbsp;&nbsp;&nbsp;&nbsp;&nbsp;&nbsp;**a.** The `Email_Campaign_Type` column captures the campaign under which the email was sent. A campaign is a marketing strategy.\n",
    "\n",
    "&nbsp;&nbsp;&nbsp;&nbsp;&nbsp;&nbsp;&nbsp;&nbsp;&nbsp;&nbsp;&nbsp;&nbsp;**i.**  **(`15 pts`)** Which campaign had the most conversions?"
   ]
  },
  {
   "cell_type": "code",
   "execution_count": 34,
   "metadata": {},
   "outputs": [],
   "source": [
    "EmailCampaignType = df[df.conversion==1].groupby('Email_Campaign_Type').size()"
   ]
  },
  {
   "cell_type": "markdown",
   "metadata": {
    "application/vnd.databricks.v1+cell": {
     "inputWidgets": {},
     "nuid": "a14b43e9-979c-40b8-a14a-1fb5601e9030",
     "showTitle": false,
     "title": ""
    }
   },
   "source": []
  },
  {
   "cell_type": "markdown",
   "metadata": {
    "application/vnd.databricks.v1+cell": {
     "inputWidgets": {},
     "nuid": "bf2d66b5-cfb6-4a9f-bb23-42fddce0eb72",
     "showTitle": false,
     "title": ""
    }
   },
   "source": [
    "&nbsp;&nbsp;&nbsp;&nbsp;&nbsp;&nbsp;&nbsp;&nbsp;&nbsp;&nbsp;&nbsp;&nbsp;**ii.**  **(`15 pts`)** Which campaign has the highest conversion rate?"
   ]
  },
  {
   "cell_type": "code",
   "execution_count": 28,
   "metadata": {},
   "outputs": [],
   "source": [
    "EmailCampaignTypeval=EmailCampaignType.idxmax()"
   ]
  },
  {
   "cell_type": "code",
   "execution_count": 29,
   "metadata": {},
   "outputs": [
    {
     "data": {
      "text/plain": [
       "(3, 1488)"
      ]
     },
     "execution_count": 29,
     "metadata": {},
     "output_type": "execute_result"
    }
   ],
   "source": [
    "EmailCampaignTypeval, EmailCampaignType.max()# 3. a(i)"
   ]
  },
  {
   "cell_type": "code",
   "execution_count": 30,
   "metadata": {},
   "outputs": [],
   "source": [
    "total_email_comp_grp = df.groupby('Email_Campaign_Type').size()"
   ]
  },
  {
   "cell_type": "code",
   "execution_count": 31,
   "metadata": {},
   "outputs": [],
   "source": [
    "conversionrate = (EmailCampaignType/df.groupby('Email_Campaign_Type').size())*100"
   ]
  },
  {
   "cell_type": "code",
   "execution_count": 33,
   "metadata": {},
   "outputs": [
    {
     "data": {
      "text/plain": [
       "(1, 'conversion rate: 23.51%')"
      ]
     },
     "execution_count": 33,
     "metadata": {},
     "output_type": "execute_result"
    }
   ],
   "source": [
    "conversionrate.idxmax(), 'conversion rate: %0.2f%%' % conversionrate.max() # 3.a (ii)"
   ]
  },
  {
   "cell_type": "markdown",
   "metadata": {
    "application/vnd.databricks.v1+cell": {
     "inputWidgets": {},
     "nuid": "228dfaee-79ba-4bf6-b31a-c26e1dff3f29",
     "showTitle": false,
     "title": ""
    }
   },
   "source": [
    "&nbsp;&nbsp;&nbsp;&nbsp;&nbsp;&nbsp;**b**.\n",
    "`Total_Past_Communications` is a count of the number of times the customer has been contacted prior to the current email. \n",
    "\n",
    "&nbsp;&nbsp;&nbsp;&nbsp;&nbsp;&nbsp;&nbsp;&nbsp;&nbsp;&nbsp;&nbsp;&nbsp;**i.** **(`11 pts`)** Create a box plot showing the distribution of `Total_Past_Communications` by `conversion`. \n",
    "\n",
    "&nbsp;&nbsp;&nbsp;&nbsp;&nbsp;&nbsp;&nbsp;&nbsp;&nbsp;&nbsp;&nbsp;&nbsp;**ii** **(`6 pts`)** How do conversions relate to the number of times a customer had been emailed?  Set the title to something that briefly summarizes this relationship. \n",
    "\n",
    "&nbsp;&nbsp;&nbsp;&nbsp;&nbsp;&nbsp;&nbsp;&nbsp;&nbsp;&nbsp;&nbsp;&nbsp;**iii.** **(`2 pts`)** Set the x-label to be `Email Status` and the y-label to be `Previous Emails`\n",
    "\n",
    "&nbsp;&nbsp;&nbsp;&nbsp;&nbsp;&nbsp;&nbsp;&nbsp;&nbsp;&nbsp;&nbsp;&nbsp;**iv** **(`1 pts`)** Prevent the default text `'Boxplot grouped by conversion'` from displaying in the title of the boxplot, and do not show extreme values / outliers.  Then show your plot!\n",
    "\n",
    "_note: the output should be one boxplot, rather than one boxplot per sub-question_"
   ]
  },
  {
   "cell_type": "code",
   "execution_count": 35,
   "metadata": {},
   "outputs": [
    {
     "data": {
      "text/plain": [
       "<AxesSubplot:xlabel='conversion', ylabel='Total_Past_Communications'>"
      ]
     },
     "execution_count": 35,
     "metadata": {},
     "output_type": "execute_result"
    },
    {
     "data": {
      "image/png": "[encoded data removed]",
      "text/plain": [
       "<Figure size 432x288 with 1 Axes>"
      ]
     },
     "metadata": {
      "needs_background": "light"
     },
     "output_type": "display_data"
    }
   ],
   "source": [
    "sns.boxplot(data=df, x='conversion', y='Total_Past_Communications')  # 3.b (i)"
   ]
  },
  {
   "cell_type": "code",
   "execution_count": 40,
   "metadata": {},
   "outputs": [
    {
     "data": {
      "text/plain": [
       "<AxesSubplot:xlabel='Email_Status', ylabel='Total_Past_Communications'>"
      ]
     },
     "execution_count": 40,
     "metadata": {},
     "output_type": "execute_result"
    },
    {
     "data": {
      "image/png": "[encoded data removed]",
      "text/plain": [
       "<Figure size 432x288 with 1 Axes>"
      ]
     },
     "metadata": {
      "needs_background": "light"
     },
     "output_type": "display_data"
    }
   ],
   "source": [
    "sns.boxplot(data=df, x='Email_Status', y='Total_Past_Communications')  # 3.b (ii)"
   ]
  },
  {
   "cell_type": "code",
   "execution_count": 39,
   "metadata": {},
   "outputs": [
    {
     "data": {
      "text/plain": [
       "<AxesSubplot:xlabel='Email_Status', ylabel='Total_Past_Communications'>"
      ]
     },
     "execution_count": 39,
     "metadata": {},
     "output_type": "execute_result"
    },
    {
     "data": {
      "image/png": "[encoded data removed]",
      "text/plain": [
       "<Figure size 432x288 with 1 Axes>"
      ]
     },
     "metadata": {
      "needs_background": "light"
     },
     "output_type": "display_data"
    }
   ],
   "source": [
    "sns.boxplot(data=df, x='Email_Status', y='Total_Past_Communications')  # 3.b (iii)"
   ]
  },
  {
   "cell_type": "code",
   "execution_count": null,
   "metadata": {},
   "outputs": [],
   "source": []
  },
  {
   "cell_type": "markdown",
   "metadata": {},
   "source": [
    "***\n",
    "You're done!  You can relax and submit this assignment! <br>If you're feeling ambitious, you can try your hand at the _extra credit_ portion below.  "
   ]
  },
  {
   "cell_type": "markdown",
   "metadata": {
    "application/vnd.databricks.v1+cell": {
     "inputWidgets": {},
     "nuid": "180af1b5-c419-466e-8ed4-3ac0d60ddbae",
     "showTitle": false,
     "title": ""
    }
   },
   "source": [
    "***\n",
    "# Extra Credit: Build, Interpret and Assess a Machine Learning Model to Predict Conversion Rate\n",
    "\n",
    "**1.  Data Cleaning & Prep** \n",
    "We'll be encoding a categorical variable, joining it to all of our numerical variables and generating a train-test split to train and test our model.<br>"
   ]
  },
  {
   "cell_type": "markdown",
   "metadata": {},
   "source": [
    "&nbsp;&nbsp;&nbsp;&nbsp;&nbsp;&nbsp;**a.** **(`5 pts`)** Which columns are categorical columns and which are numerical? Create a list of categorical column names and a list of numerical column names. Ignore the following columns: `Email_ID`, `Email_Status`, `conversion`.  You should have ten columns to categorize.  Save each list to a variable (e.g., `my_var = ['a', 'b', 'c']`)"
   ]
  },
  {
   "cell_type": "code",
   "execution_count": null,
   "metadata": {},
   "outputs": [],
   "source": []
  },
  {
   "cell_type": "code",
   "execution_count": null,
   "metadata": {},
   "outputs": [],
   "source": []
  },
  {
   "cell_type": "code",
   "execution_count": null,
   "metadata": {},
   "outputs": [],
   "source": []
  },
  {
   "cell_type": "markdown",
   "metadata": {},
   "source": [
    "&nbsp;&nbsp;&nbsp;&nbsp;&nbsp;&nbsp;**b.** **(`2.5 pts`)** A few of the columns have missing values.  Let's just drop them.  To do that you can run `df.dropna(inplace=True)` where `df` is the name of your dataframe. That's it, this one's easy, no tricks."
   ]
  },
  {
   "cell_type": "code",
   "execution_count": null,
   "metadata": {
    "application/vnd.databricks.v1+cell": {
     "inputWidgets": {},
     "nuid": "454044e9-8fc4-4832-b99a-61c039c87250",
     "showTitle": false,
     "title": ""
    }
   },
   "outputs": [],
   "source": []
  },
  {
   "cell_type": "markdown",
   "metadata": {},
   "source": [
    "&nbsp;&nbsp;&nbsp;&nbsp;&nbsp;&nbsp;**c.** **(`10 pts`)** Add Dummy Variables!   (Hint: Follow the code in chapter 4)<br>\n",
    "&nbsp;&nbsp;&nbsp;&nbsp;&nbsp;&nbsp;&nbsp;&nbsp;&nbsp;&nbsp;&nbsp;&nbsp;**i.** Using `pd.get_dummies(<your_column_of_data>, drop_first=True)`, create a new dataframe that contains the dummy-variable version of `Email_Campaign_Type`. <br>**Note/Warning:** <i>This is a bit different than we did in class since we use the `drop_first` argument.  `drop_first` means:  Don't encode Campaign 1, just tell me how good Campaigns 2 & 3 are in relation to Campaign 1.  This is necessary for the model to produce sensible results</i><br>\n",
    "&nbsp;&nbsp;&nbsp;&nbsp;&nbsp;&nbsp;&nbsp;&nbsp;&nbsp;&nbsp;&nbsp;&nbsp;**ii.** Rename the columns of this dataframe to be `'Campaign_2','Campaign_3'`<br>\n",
    "&nbsp;&nbsp;&nbsp;&nbsp;&nbsp;&nbsp;&nbsp;&nbsp;&nbsp;&nbsp;&nbsp;&nbsp;**iii.** Concatenate this dataframe to the original dataframe.<br>\n",
    "&nbsp;&nbsp;&nbsp;&nbsp;&nbsp;&nbsp;&nbsp;&nbsp;&nbsp;&nbsp;&nbsp;&nbsp;**iv.** Create a variable called `all_features` that is a list of all the variables we want to use in our model.  This will be all numerical variables and the dummy variables `'Campaign_2','Campaign_3'`.  Print the variable (i.e., `print(all_features)`).  <br>\n"
   ]
  },
  {
   "cell_type": "code",
   "execution_count": null,
   "metadata": {},
   "outputs": [],
   "source": []
  },
  {
   "cell_type": "markdown",
   "metadata": {},
   "source": [
    "&nbsp;&nbsp;&nbsp;&nbsp;&nbsp;&nbsp;**d.** **(`7.5 pts`)** Split the dataframe into 80% training data and 20% testing data using the `train_test_split` function (see section 3 of the notebook from Chapter 8 for an example of how to do this.) When you pass the data to be split, be sure to add an intercept!  \n",
    "To do this simply pass `sm.add_constant(df[all_features])` (where `sm` is the alias for `statsmodels.api`) instead of just `df[all_features]` (in other words, `df[all_features]` is your modeling dataframe subset to the features you will use to model).  \n",
    "Finally, add the following argument to train_test_split:  `random_state=42`\n",
    "\n",
    "*print the number of rows and columns in all the dataframes you created in this step*"
   ]
  },
  {
   "cell_type": "code",
   "execution_count": null,
   "metadata": {},
   "outputs": [],
   "source": []
  },
  {
   "cell_type": "markdown",
   "metadata": {},
   "source": [
    "**2.  Build, interpret and score a logistic regression model!** <br>\n",
    "&nbsp;&nbsp;&nbsp;&nbsp;&nbsp;&nbsp;**a.** **(`5 pts`)** Build a Logistic Regression using statsmodels (statsmodels.api) as in Chapter 3.  Only include the *train* data you created in question 1d.<br>"
   ]
  },
  {
   "cell_type": "code",
   "execution_count": null,
   "metadata": {
    "application/vnd.databricks.v1+cell": {
     "inputWidgets": {},
     "nuid": "286b2772-1d5a-4b94-8775-f1cbe52e75de",
     "showTitle": false,
     "title": ""
    }
   },
   "outputs": [],
   "source": []
  },
  {
   "cell_type": "markdown",
   "metadata": {},
   "source": [
    "&nbsp;&nbsp;&nbsp;&nbsp;&nbsp;&nbsp;**b.**  Using the Model Summary answer the following questions <br>Remember:  `Campaign_2` & `Campaign_3` are encoded in relation to `Campaign_1`, when interpretting them remember to mention that their effect is relative to `Campaign_1`).\n",
    "<br>You can provide your answer as a comment (`# Anything following a hash mark is a comment`) or in any other manner you like."
   ]
  },
  {
   "cell_type": "markdown",
   "metadata": {},
   "source": [
    "\n",
    "&nbsp;&nbsp;&nbsp;&nbsp;&nbsp;&nbsp;&nbsp;&nbsp;&nbsp;&nbsp;&nbsp;&nbsp;**i.** **(`3 pts`)**which variables have a statistically significant positive correlation with the target\n",
    "<br>"
   ]
  },
  {
   "cell_type": "code",
   "execution_count": null,
   "metadata": {},
   "outputs": [],
   "source": []
  },
  {
   "cell_type": "markdown",
   "metadata": {},
   "source": [
    "&nbsp;&nbsp;&nbsp;&nbsp;&nbsp;&nbsp;&nbsp;&nbsp;&nbsp;&nbsp;&nbsp;&nbsp;**ii.** **(`3 pts`)**\n",
    "which variables have a statistically significant negative correlation with the target?"
   ]
  },
  {
   "cell_type": "code",
   "execution_count": null,
   "metadata": {},
   "outputs": [],
   "source": []
  },
  {
   "cell_type": "markdown",
   "metadata": {},
   "source": [
    "&nbsp;&nbsp;&nbsp;&nbsp;&nbsp;&nbsp;&nbsp;&nbsp;&nbsp;&nbsp;&nbsp;&nbsp;**iii.** **(`4 pts`)**\n",
    "What suggestions can you make based on these results? "
   ]
  },
  {
   "cell_type": "code",
   "execution_count": null,
   "metadata": {},
   "outputs": [],
   "source": []
  },
  {
   "cell_type": "markdown",
   "metadata": {},
   "source": [
    "&nbsp;&nbsp;&nbsp;&nbsp;&nbsp;&nbsp;**c.** **(`5 pts`)** Use your model to get predictions using the test data.  Remember that your fit model is the result of the `.fit()` call (e.g., `my_fit = my_model.fit()`).  The resulting object has a `.predict` method (e.g., `my_fit.predict()`) that will generate predictions using your model on the specified data.  <br>Get predictions by applying the model you just fit to the _test_ data.  Save the predictions to a variable.<br>"
   ]
  },
  {
   "cell_type": "code",
   "execution_count": null,
   "metadata": {},
   "outputs": [],
   "source": []
  },
  {
   "cell_type": "markdown",
   "metadata": {},
   "source": [
    "&nbsp;&nbsp;&nbsp;&nbsp;&nbsp;&nbsp;**d.**  **(`5 pts`)** The ROC AUC score informs you as to how good your model is at telling which emails are more likely to result in conversions than others. You can use the Scikit-Learn function `sklearn.metrics.roc_auc_score` to compute this. This function has two inputs: predictions and the actual value from the data.  You already have both of these variables. *You may want to take a look at Chapter 8's Notebook for more details on this metric*"
   ]
  },
  {
   "cell_type": "code",
   "execution_count": null,
   "metadata": {},
   "outputs": [],
   "source": []
  }
 ],
 "metadata": {
  "application/vnd.databricks.v1+notebook": {
   "dashboards": [],
   "language": "python",
   "notebookName": "coding challenge",
   "notebookOrigID": 3716877220258601,
   "widgets": {}
  },
  "kernelspec": {
   "display_name": "envOne",
   "language": "python",
   "name": "envone"
  },
  "language_info": {
   "codemirror_mode": {
    "name": "ipython",
    "version": 3
   },
   "file_extension": ".py",
   "mimetype": "text/x-python",
   "name": "python",
   "nbconvert_exporter": "python",
   "pygments_lexer": "ipython3",
   "version": "3.8.10"
  }
 },
 "nbformat": 4,
 "nbformat_minor": 1
}
